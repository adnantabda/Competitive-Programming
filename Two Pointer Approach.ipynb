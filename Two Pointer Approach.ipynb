{
 "cells": [
  {
   "cell_type": "code",
   "execution_count": 6,
   "id": "1a965f3f",
   "metadata": {},
   "outputs": [
    {
     "name": "stdout",
     "output_type": "stream",
     "text": [
      "(4, 5)\n"
     ]
    }
   ],
   "source": [
    "## Two Pointer Approach\n",
    "## Time Complexity O(n)\n",
    "\n",
    "def two_sum(arr, target_sum):\n",
    "    left  = 0 \n",
    "    right = len(arr) - 1\n",
    "    while left<= right:\n",
    "\n",
    "        if arr[left] + arr[right] == target_sum:\n",
    "            return left, right\n",
    "        elif arr[left] + arr[right] < target_sum:\n",
    "            left +=1\n",
    "        else: \n",
    "            right -=1\n",
    "        \n",
    "## Driver code\n",
    "arr = [20,40, 60, 80, 90, 120, 240]\n",
    "print(two_sum(arr, 210)) "
   ]
  },
  {
   "cell_type": "code",
   "execution_count": 3,
   "id": "8ca06b0b",
   "metadata": {},
   "outputs": [
    {
     "name": "stdout",
     "output_type": "stream",
     "text": [
      "3\n"
     ]
    }
   ],
   "source": [
    "# function definition\n",
    "\n",
    "def bad_version_index(input_):\n",
    "    left = 0\n",
    "    right = len(input_) - 1\n",
    "    while left <= right:\n",
    "        mid = left + (right - left )// 2\n",
    "        if input_[mid] == 1:\n",
    "            if input_[mid - 1] == 0:\n",
    "                return mid\n",
    "            \n",
    "            right = mid - 1 \n",
    "            \n",
    "        if input_[mid] == 0:\n",
    "            if input_[mid + 1] == 1:\n",
    "                return mid + 1\n",
    "            \n",
    "            left = mid + 1\n",
    "            \n",
    "    return -1\n",
    "                \n",
    "        \n",
    "            \n",
    "\n",
    "\n",
    "\n",
    "\n",
    "# Driver code \n",
    "input_ = [0, 0, 0, 1, 1, 1, 1, 1 , 1]\n",
    "print(bad_version_index(input_))"
   ]
  },
  {
   "cell_type": "code",
   "execution_count": null,
   "id": "0e0d4efa",
   "metadata": {},
   "outputs": [],
   "source": []
  }
 ],
 "metadata": {
  "kernelspec": {
   "display_name": "Python 3 (ipykernel)",
   "language": "python",
   "name": "python3"
  },
  "language_info": {
   "codemirror_mode": {
    "name": "ipython",
    "version": 3
   },
   "file_extension": ".py",
   "mimetype": "text/x-python",
   "name": "python",
   "nbconvert_exporter": "python",
   "pygments_lexer": "ipython3",
   "version": "3.11.6"
  }
 },
 "nbformat": 4,
 "nbformat_minor": 5
}
