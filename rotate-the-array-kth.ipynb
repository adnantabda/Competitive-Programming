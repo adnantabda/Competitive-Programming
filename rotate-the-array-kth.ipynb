{
 "cells": [
  {
   "cell_type": "code",
   "execution_count": 11,
   "id": "19242eb3",
   "metadata": {},
   "outputs": [
    {
     "name": "stdout",
     "output_type": "stream",
     "text": [
      "[5, 6, 7, 1, 2, 3, 4]\n",
      "[2, 3, 4, 5, 6, 7, 1]\n"
     ]
    }
   ],
   "source": [
    "# Function\n",
    "## Brute force \n",
    "## O(n * k)\n",
    "\n",
    "def rotateBrute(nums, k):\n",
    "    k %= len(nums)\n",
    "    \n",
    "    for _ in range(k):\n",
    "        temp = nums[-1]\n",
    "        for i in range(len(nums)-1, 0 , -1):\n",
    "            nums[i] = nums[i - 1]\n",
    "        nums[0] = temp\n",
    "    \n",
    "    return nums\n",
    "            \n",
    "\n",
    "def rotateReverse(nums, k):\n",
    "    def reverse(nums, start, end):\n",
    "        while start < end:\n",
    "            nums[start], nums[end] = nums[end], nums[start]\n",
    "            start +=1\n",
    "            end -=1\n",
    "    reverse(nums, 0 , len(nums)-1)\n",
    "    reverse(nums, 0, k- 1)\n",
    "    reverse(nums, k, len(nums)-1)\n",
    "    return nums\n",
    "    \n",
    "\n",
    "\n",
    "# driver code\n",
    "\n",
    "nums = [1,2,3,4,5,6,7]\n",
    "k = 3\n",
    "print(rotateBrute(nums, k ))\n",
    "print(rotateReverse(nums, k))"
   ]
  },
  {
   "cell_type": "code",
   "execution_count": null,
   "id": "db1cc891",
   "metadata": {},
   "outputs": [],
   "source": []
  }
 ],
 "metadata": {
  "kernelspec": {
   "display_name": "Python 3 (ipykernel)",
   "language": "python",
   "name": "python3"
  },
  "language_info": {
   "codemirror_mode": {
    "name": "ipython",
    "version": 3
   },
   "file_extension": ".py",
   "mimetype": "text/x-python",
   "name": "python",
   "nbconvert_exporter": "python",
   "pygments_lexer": "ipython3",
   "version": "3.11.6"
  }
 },
 "nbformat": 4,
 "nbformat_minor": 5
}
