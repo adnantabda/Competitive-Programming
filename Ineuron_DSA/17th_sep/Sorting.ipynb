{
 "cells": [
  {
   "cell_type": "code",
   "execution_count": null,
   "id": "7568eff2",
   "metadata": {},
   "outputs": [],
   "source": [
    "# Sorting \n",
    "\n",
    "\"\"\"\n",
    "Sorting\n",
    "\n",
    "- comparison based sorting. \n",
    "    we are comparing elements in the collection relative to each other\n",
    "    \n",
    "    1. bubble sort\n",
    "    2. selection sort\n",
    "    3. insertion sort \n",
    "    4. quick sort ( Divide and conquer )\n",
    "    5. merge sort ( Divide and conquer )\n",
    "    6. heap sort \n",
    "    7. shell sort\n",
    "    \n",
    "    \n",
    "    \n",
    "- non comparsion based sorting.\n",
    "    no comparison within the elements \n",
    "    \n",
    "    1. count sort \n",
    "    2. redix sort\n",
    "    3. bucket sort\n",
    "\n",
    "\"\"\"\n",
    "\n",
    "## Stable and non Stable sorting \n",
    "\n",
    "\"\"\"\n",
    "\n",
    "if we have the same element in a array like for example \n",
    "[1, 5, 2, 4, 10, 3, 10 ]\n",
    "\n",
    "in this example we have two 10s if the first 10 say 10a comes first and the \n",
    "second 10 say 10b comes nextnafter we sorted the algorithm then it is said to be\n",
    "stable sortging \n",
    "\n",
    "example \n",
    " - merge sort\n",
    "\n",
    "[1, 2, 3, 4, 5, 10(a), 10(b)]\n",
    "\n",
    "the opposite is said to be not stable sorting \n",
    "example of not stable sorting algorithm are \n",
    "- quick sort\n",
    "- heap sort\n",
    "\n",
    "\"\"\"\n",
    "\n",
    "## Inplace and outplace sorting \n",
    "\n",
    "\"\"\"\n",
    "\n",
    "outplace sorting whenever we require additional memory or extra space\n",
    "and we are making sorting based on that space.\n",
    "\n",
    "example \n",
    "  -merge sort\n",
    "   \n",
    "\n",
    "inplace sorting whenever we are sorting algorithm without requiring \n",
    "any extra space and we are sorting in the same arra.\n",
    "\n",
    "Example\n",
    "  -bubble sort\n",
    "  -selection sort \n",
    "  -insertion sort\n",
    "\n",
    "\n",
    "\"\"\"\n",
    "\n"
   ]
  },
  {
   "cell_type": "code",
   "execution_count": 4,
   "id": "f5d2565a",
   "metadata": {},
   "outputs": [
    {
     "name": "stdout",
     "output_type": "stream",
     "text": [
      "[20, 35, 47, 50, 60, 70]\n"
     ]
    }
   ],
   "source": [
    "# Bubble Sort \n",
    "\n",
    "\n",
    "[70, 20, 50, 30, 90, 5, 15]\n",
    "\"\"\"\n",
    "n elements -> worst case => (n - 1) passes\n",
    "number of comparisons = \n",
    "(n - 1 ) + (n - 2) + (n - 3)...... + 1\n",
    "this the sum of n natural numbers so the number of comparison will be\n",
    "O(n2)\n",
    "\n",
    "Time complexity = number of comparison + number of swaps \n",
    "\n",
    "\"\"\"\n",
    "\n",
    "## Implementation\n",
    "\n",
    "### Function Definition\n",
    "\n",
    "def bubble_sort(arr):\n",
    "    n = len(arr) \n",
    "    for i in range(n):\n",
    "        for j in range(n-i-1):\n",
    "            if arr[j] > arr[j + 1]:\n",
    "                arr[j], arr[j+1] = arr[j+1], arr[j]\n",
    "                \n",
    "    return arr\n",
    "            \n",
    "    \n",
    "    \n",
    "\n",
    "\n",
    "\n",
    "\n",
    "### Driver Code \n",
    "\n",
    "arr = [70, 20, 50, 60, 35, 47]\n",
    "result = bubble_sort(arr)\n",
    "print(result)   "
   ]
  },
  {
   "cell_type": "code",
   "execution_count": 1,
   "id": "96a45612",
   "metadata": {},
   "outputs": [
    {
     "name": "stdout",
     "output_type": "stream",
     "text": [
      "[20, 35, 47, 50, 60, 70]\n"
     ]
    }
   ],
   "source": [
    "# Selection Sort\n",
    "\n",
    "\"\"\"\n",
    "in selection sort the swap will happen once per pass\n",
    "each time it saves the min value as it goes \n",
    "\n",
    "number of comparison n\n",
    "number of swaps n2\n",
    " \n",
    "the overall time complexity n + n2\n",
    "\n",
    "O(n2)\n",
    "\n",
    "\"\"\"\n",
    "###  Function Definition\n",
    "\n",
    "def selection_sort(arr):\n",
    "    n = len(arr)\n",
    "    for i in range(n):\n",
    "        min_ = i\n",
    "        for j in range(i+1,n):\n",
    "            if arr[j] < arr[min_]:\n",
    "                min_ = j\n",
    "           \n",
    "        arr[i], arr[min_] = arr[min_], arr[i]\n",
    "        \n",
    "    return arr\n",
    "  \n",
    "\n",
    "\n",
    "### Driver code \n",
    "\n",
    "arr = [70, 20, 50, 60, 35, 47]\n",
    "result_of_selection = selection_sort(arr)\n",
    "print(result_of_selection)  "
   ]
  },
  {
   "cell_type": "code",
   "execution_count": 3,
   "id": "962cbd79",
   "metadata": {},
   "outputs": [
    {
     "name": "stdout",
     "output_type": "stream",
     "text": [
      "[20, 35, 47, 50, 60, 70]\n"
     ]
    },
    {
     "data": {
      "text/plain": [
       "[20, 35, 47, 50, 60, 70]"
      ]
     },
     "execution_count": 3,
     "metadata": {},
     "output_type": "execute_result"
    }
   ],
   "source": [
    "### Insertion Sort \n",
    "\n",
    "\n",
    "\n",
    "\n",
    "def inseration_sort(arr):\n",
    "    for i in range(1,len(arr)):\n",
    "        j = 1\n",
    "        while j > 0 and arr[j - 1] > arr[j] :\n",
    "            arr[j- 1], arr[j] = arr[j], arr[j - 1]\n",
    "            j -=1\n",
    "    return arr\n",
    "            \n",
    "        \n",
    "\n",
    "[75, 95, 100 , 90, 85, 80 ]\n",
    "print(inseration_sort(arr))\n",
    "\n"
   ]
  },
  {
   "cell_type": "code",
   "execution_count": null,
   "id": "1aa0b970",
   "metadata": {},
   "outputs": [],
   "source": []
  }
 ],
 "metadata": {
  "kernelspec": {
   "display_name": "Python 3 (ipykernel)",
   "language": "python",
   "name": "python3"
  },
  "language_info": {
   "codemirror_mode": {
    "name": "ipython",
    "version": 3
   },
   "file_extension": ".py",
   "mimetype": "text/x-python",
   "name": "python",
   "nbconvert_exporter": "python",
   "pygments_lexer": "ipython3",
   "version": "3.11.6"
  }
 },
 "nbformat": 4,
 "nbformat_minor": 5
}
