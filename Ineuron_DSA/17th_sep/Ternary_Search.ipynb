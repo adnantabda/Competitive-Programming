{
 "cells": [
  {
   "cell_type": "code",
   "execution_count": 10,
   "id": "7012c82b",
   "metadata": {},
   "outputs": [
    {
     "name": "stdout",
     "output_type": "stream",
     "text": [
      "-1\n",
      "-1\n"
     ]
    }
   ],
   "source": [
    "# Ternary Search \n",
    "\"\"\"\n",
    "ternary search will divide the given array into\n",
    "three part. \n",
    "in this algorithm we will have 2 mid points \n",
    "the two mid will be \n",
    "\n",
    "mid_1 = l + (r - l)// 3\n",
    "mid_2 = r - (r - l) // 3\n",
    "\n",
    "\"\"\" \n",
    "\n",
    "## Ternary Search Using Iterarive approach\n",
    "\n",
    "arr = [20, 25, 47, 56, 59, 63, 65, 79, 82]\n",
    "target = 100\n",
    "\n",
    "def ternary_search_iterative(arr, target):\n",
    "    left = 0 \n",
    "    right = len(arr)-1\n",
    "    while left <=right:\n",
    "        mid_one = left + (right - left )//3\n",
    "        mid_two = right - (right - left )//3\n",
    "        \n",
    "        if arr[mid_one] == target: \n",
    "            return mid_one\n",
    "        if arr[mid_two] == target:\n",
    "            return mid_two \n",
    "        \n",
    "        if arr[mid_one] > target:\n",
    "            right = mid_one - 1\n",
    "            \n",
    "        elif arr[mid_two] < target:\n",
    "            left = mid_two + 1\n",
    "            \n",
    "        else: \n",
    "            right = mid_two - 1\n",
    "            left = mid_one + 1 \n",
    "            \n",
    "    return -1\n",
    "\n",
    "print(ternary_search_iterative(arr, target))\n",
    "\n",
    "\n",
    "## Ternary Search Using Recussion Approach\n",
    "\n",
    "left = 0\n",
    "right = len(arr) - 1\n",
    "\n",
    "def ternary_search_rec(arr,target,left, right):\n",
    "    while left <=right:\n",
    "        mid_one = left + (right - left)// 3\n",
    "        mid_two = right - (right - left)//3\n",
    "        \n",
    "        if arr[mid_one] == target:\n",
    "            return mid_one\n",
    "        if arr[mid_two] == target:\n",
    "            return mid_two\n",
    "        \n",
    "        if arr[mid_one] > target:\n",
    "            return ternary_search_rec(arr, target,  0 , mid_one - 1)\n",
    "        \n",
    "        elif  arr[mid_two] < target:\n",
    "            return ternary_search_rec(arr, target, mid_two + 1, len(arr) - 1)\n",
    "        \n",
    "        else:\n",
    "            return ternary_search_rec(arr, target, mid_one + 1, mid_two - 1)\n",
    "        \n",
    "        \n",
    "    return -1\n",
    "\n",
    "print(ternary_search_rec(arr, target, left, right))\n",
    "\n",
    "\n"
   ]
  },
  {
   "cell_type": "code",
   "execution_count": null,
   "id": "8b781e63",
   "metadata": {},
   "outputs": [],
   "source": [
    "\n",
    "\n",
    "\n",
    "\n"
   ]
  }
 ],
 "metadata": {
  "kernelspec": {
   "display_name": "Python 3 (ipykernel)",
   "language": "python",
   "name": "python3"
  },
  "language_info": {
   "codemirror_mode": {
    "name": "ipython",
    "version": 3
   },
   "file_extension": ".py",
   "mimetype": "text/x-python",
   "name": "python",
   "nbconvert_exporter": "python",
   "pygments_lexer": "ipython3",
   "version": "3.11.6"
  }
 },
 "nbformat": 4,
 "nbformat_minor": 5
}
