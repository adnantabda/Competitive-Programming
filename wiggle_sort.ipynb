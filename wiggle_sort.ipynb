{
 "cells": [
  {
   "cell_type": "code",
   "execution_count": 5,
   "id": "d0bb4589",
   "metadata": {},
   "outputs": [
    {
     "name": "stdout",
     "output_type": "stream",
     "text": [
      "[2, 3, 1, 3, 1, 2]\n"
     ]
    }
   ],
   "source": [
    "def wiggleSort(nums):\n",
    "    \n",
    "    \n",
    "    nums_sort = sorted(nums)\n",
    "    \n",
    "    i = (len(nums)-1)//2\n",
    "    j = len(nums) - 1\n",
    "    for k in range(len(nums)):\n",
    "        if k % 2 == 0:\n",
    "            nums[k]= nums_sort[i]\n",
    "            i -=1\n",
    "        else:\n",
    "            nums[k]= nums_sort[j]\n",
    "            j -=1\n",
    "            \n",
    "    return nums\n",
    "\n",
    "\n",
    "\n",
    "\n",
    "print(wiggleSort([]))"
   ]
  },
  {
   "cell_type": "code",
   "execution_count": null,
   "id": "c02fa5ae",
   "metadata": {},
   "outputs": [],
   "source": []
  }
 ],
 "metadata": {
  "kernelspec": {
   "display_name": "Python 3 (ipykernel)",
   "language": "python",
   "name": "python3"
  },
  "language_info": {
   "codemirror_mode": {
    "name": "ipython",
    "version": 3
   },
   "file_extension": ".py",
   "mimetype": "text/x-python",
   "name": "python",
   "nbconvert_exporter": "python",
   "pygments_lexer": "ipython3",
   "version": "3.11.6"
  }
 },
 "nbformat": 4,
 "nbformat_minor": 5
}
