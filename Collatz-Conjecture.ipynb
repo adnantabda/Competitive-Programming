{
 "cells": [
  {
   "cell_type": "code",
   "execution_count": 26,
   "id": "339436e9",
   "metadata": {},
   "outputs": [
    {
     "name": "stdout",
     "output_type": "stream",
     "text": [
      "17\n",
      "[7, 22, 11, 34, 17, 52, 26, 13, 40, 20, 10, 5, 16, 8, 4, 2, 1]\n"
     ]
    }
   ],
   "source": [
    "def collatzloop(num, stack, operations):\n",
    "    if num not in stack:\n",
    "        if num % 2 == 0:\n",
    "            stack.append(num)\n",
    "            operations +=1\n",
    "            return collatzloop(num // 2, stack, operations)\n",
    "        else:\n",
    "            stack.append(num)\n",
    "            operations +=1\n",
    "            return collatzloop( 3 * num + 1, stack, operations)\n",
    "    print(operations)\n",
    "        \n",
    "    return stack\n",
    "\n",
    "\n",
    "stack = []\n",
    "operations = 0\n",
    "print(collatzloop(7, stack, operations))\n",
    "    \n",
    "    \n",
    "\n",
    "\n",
    "\n",
    "\n",
    "\n"
   ]
  },
  {
   "cell_type": "code",
   "execution_count": 34,
   "id": "d770c103",
   "metadata": {},
   "outputs": [
    {
     "name": "stdout",
     "output_type": "stream",
     "text": [
      "17\n"
     ]
    }
   ],
   "source": [
    "def collatzloop(num):\n",
    "    def get_next(n):\n",
    "        if n % 2 == 0:\n",
    "            return n//2\n",
    "        else: \n",
    "            return 3 * n + 1\n",
    "    \n",
    "    operations = 1\n",
    "    while num != 1:\n",
    "        operations +=1\n",
    "        \n",
    "        num = get_next(num)\n",
    "        \n",
    "        \n",
    "    return operations \n",
    "\n",
    "\n",
    "\n",
    "print(collatzloop(7))\n",
    "\n",
    "        \n",
    "    \n",
    "    \n",
    "    \n",
    "    \n",
    "    \n",
    "    "
   ]
  },
  {
   "cell_type": "code",
   "execution_count": null,
   "id": "3b7a9c03",
   "metadata": {},
   "outputs": [],
   "source": []
  }
 ],
 "metadata": {
  "kernelspec": {
   "display_name": "Python 3 (ipykernel)",
   "language": "python",
   "name": "python3"
  },
  "language_info": {
   "codemirror_mode": {
    "name": "ipython",
    "version": 3
   },
   "file_extension": ".py",
   "mimetype": "text/x-python",
   "name": "python",
   "nbconvert_exporter": "python",
   "pygments_lexer": "ipython3",
   "version": "3.11.6"
  }
 },
 "nbformat": 4,
 "nbformat_minor": 5
}
