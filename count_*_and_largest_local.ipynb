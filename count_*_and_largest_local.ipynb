{
 "cells": [
  {
   "cell_type": "code",
   "execution_count": 12,
   "id": "d244b7a2",
   "metadata": {},
   "outputs": [
    {
     "name": "stdout",
     "output_type": "stream",
     "text": [
      "0\n",
      "0\n"
     ]
    }
   ],
   "source": [
    "def countAsterisks(s) -> int:\n",
    "        list_ = s.split(\"|\")\n",
    "        counter = 0\n",
    "        for i in range(0,len(list_)):\n",
    "            if i % 2 == 0:\n",
    "                \n",
    "                print(i)\n",
    "                found = list_[i].count(\"*\")\n",
    "                counter += found\n",
    "\n",
    "                \n",
    "        return counter\n",
    "                \n",
    "                \n",
    "    \n",
    "\n",
    "    \n",
    "    \n",
    "s = \"iamprogrammer\"\n",
    "print(countAsterisks(s))\n",
    "        "
   ]
  },
  {
   "cell_type": "code",
   "execution_count": 32,
   "id": "5c746078",
   "metadata": {},
   "outputs": [
    {
     "ename": "TypeError",
     "evalue": "'int' object is not iterable",
     "output_type": "error",
     "traceback": [
      "\u001b[0;31m---------------------------------------------------------------------------\u001b[0m",
      "\u001b[0;31mTypeError\u001b[0m                                 Traceback (most recent call last)",
      "Cell \u001b[0;32mIn[32], line 31\u001b[0m\n\u001b[1;32m     16\u001b[0m     \u001b[38;5;28mprint\u001b[39m(maxLocal)\n\u001b[1;32m     27\u001b[0m grid \u001b[38;5;241m=\u001b[39m [[\u001b[38;5;241m9\u001b[39m,\u001b[38;5;241m9\u001b[39m,\u001b[38;5;241m8\u001b[39m,\u001b[38;5;241m1\u001b[39m],\n\u001b[1;32m     28\u001b[0m         [\u001b[38;5;241m5\u001b[39m,\u001b[38;5;241m6\u001b[39m,\u001b[38;5;241m2\u001b[39m,\u001b[38;5;241m6\u001b[39m],\n\u001b[1;32m     29\u001b[0m         [\u001b[38;5;241m8\u001b[39m,\u001b[38;5;241m2\u001b[39m,\u001b[38;5;241m6\u001b[39m,\u001b[38;5;241m4\u001b[39m],\n\u001b[1;32m     30\u001b[0m         [\u001b[38;5;241m6\u001b[39m,\u001b[38;5;241m2\u001b[39m,\u001b[38;5;241m2\u001b[39m,\u001b[38;5;241m2\u001b[39m]]\n\u001b[0;32m---> 31\u001b[0m \u001b[38;5;28mprint\u001b[39m(\u001b[43mlargestLocal\u001b[49m\u001b[43m(\u001b[49m\u001b[43mgrid\u001b[49m\u001b[43m)\u001b[49m)\n",
      "Cell \u001b[0;32mIn[32], line 13\u001b[0m, in \u001b[0;36mlargestLocal\u001b[0;34m(grid)\u001b[0m\n\u001b[1;32m     11\u001b[0m         \u001b[38;5;28;01mfor\u001b[39;00m x \u001b[38;5;129;01min\u001b[39;00m \u001b[38;5;28mrange\u001b[39m(i , i \u001b[38;5;241m+\u001b[39m \u001b[38;5;241m3\u001b[39m):\n\u001b[1;32m     12\u001b[0m             \u001b[38;5;28;01mfor\u001b[39;00m y \u001b[38;5;129;01min\u001b[39;00m \u001b[38;5;28mrange\u001b[39m(j \u001b[38;5;241m+\u001b[39m \u001b[38;5;241m3\u001b[39m):\n\u001b[0;32m---> 13\u001b[0m                 maxLocal[i][j] \u001b[38;5;241m=\u001b[39m \u001b[38;5;28;43mmax\u001b[39;49m\u001b[43m(\u001b[49m\u001b[43mgrid\u001b[49m\u001b[43m[\u001b[49m\u001b[43mx\u001b[49m\u001b[43m]\u001b[49m\u001b[43m[\u001b[49m\u001b[43my\u001b[49m\u001b[43m]\u001b[49m\u001b[43m)\u001b[49m\n\u001b[1;32m     16\u001b[0m \u001b[38;5;28mprint\u001b[39m(maxLocal)\n",
      "\u001b[0;31mTypeError\u001b[0m: 'int' object is not iterable"
     ]
    }
   ],
   "source": [
    "def largestLocal(grid):\n",
    "    n = len(grid)\n",
    "    three_by_three = [0] * 9\n",
    "    k = n - 2\n",
    "    maxLocal = [[i for i in range(n - 2)] for row in range(n - 2)]\n",
    "    \n",
    "    \n",
    "    \n",
    "    for i in range(k):\n",
    "        for j in range(k):\n",
    "            for x in range(i , i + 3):\n",
    "                for y in range(j + 3):\n",
    "                    maxLocal[i][j] = grid[x][y] \n",
    "    \n",
    "    \n",
    "    print(maxLocal)\n",
    "            \n",
    "        \n",
    "            \n",
    "            \n",
    "    \n",
    "    \n",
    "    \n",
    "    \n",
    "    \n",
    "    \n",
    "grid = [[9,9,8,1],\n",
    "        [5,6,2,6],\n",
    "        [8,2,6,4],\n",
    "        [6,2,2,2]]\n",
    "print(largestLocal(grid))\n",
    "    \n",
    "    \n",
    "    \n",
    "    "
   ]
  },
  {
   "cell_type": "code",
   "execution_count": null,
   "id": "87587620",
   "metadata": {},
   "outputs": [],
   "source": []
  }
 ],
 "metadata": {
  "kernelspec": {
   "display_name": "Python 3 (ipykernel)",
   "language": "python",
   "name": "python3"
  },
  "language_info": {
   "codemirror_mode": {
    "name": "ipython",
    "version": 3
   },
   "file_extension": ".py",
   "mimetype": "text/x-python",
   "name": "python",
   "nbconvert_exporter": "python",
   "pygments_lexer": "ipython3",
   "version": "3.11.6"
  }
 },
 "nbformat": 4,
 "nbformat_minor": 5
}
