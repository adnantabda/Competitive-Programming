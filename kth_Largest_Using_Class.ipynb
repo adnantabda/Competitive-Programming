{
 "cells": [
  {
   "cell_type": "code",
   "execution_count": 9,
   "id": "31ff994a",
   "metadata": {},
   "outputs": [],
   "source": [
    "class KthLargest:\n",
    "\n",
    "    def __init__(self, k, nums):\n",
    "        self.k = k \n",
    "        self.nums = nums\n",
    "        \n",
    "\n",
    "    def add(self, val: int) -> int:\n",
    "        self.nums.append(val)\n",
    "        \n",
    "        self.nums.sort()\n",
    "        if len(self.nums) == self.k:\n",
    "            return self.nums[0]\n",
    "        else:\n",
    "            return self.nums[len(self.nums) - self.k]"
   ]
  }
 ],
 "metadata": {
  "kernelspec": {
   "display_name": "Python 3 (ipykernel)",
   "language": "python",
   "name": "python3"
  },
  "language_info": {
   "codemirror_mode": {
    "name": "ipython",
    "version": 3
   },
   "file_extension": ".py",
   "mimetype": "text/x-python",
   "name": "python",
   "nbconvert_exporter": "python",
   "pygments_lexer": "ipython3",
   "version": "3.11.6"
  }
 },
 "nbformat": 4,
 "nbformat_minor": 5
}
