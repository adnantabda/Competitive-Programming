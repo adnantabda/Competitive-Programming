{
 "cells": [
  {
   "cell_type": "code",
   "execution_count": 32,
   "id": "21280093",
   "metadata": {},
   "outputs": [
    {
     "name": "stdout",
     "output_type": "stream",
     "text": [
      "False\n",
      "False\n",
      "True\n"
     ]
    }
   ],
   "source": [
    "\"\"\"\n",
    "when data items are stored in a collection such as a list, we say that\n",
    "they have linear or sequential relationship. \n",
    "\n",
    "\"\"\"\n",
    "\n",
    "## Linear or Sequential search \n",
    "\n",
    "def linearSearch(arr, target):\n",
    "    found = False\n",
    "    for i in range(len(arr)):\n",
    "        if arr[i] == target:\n",
    "            found = True\n",
    "            return found\n",
    "        elif arr[i] > target:\n",
    "            return False\n",
    "    \n",
    "    return found\n",
    "\n",
    "\n",
    "\n",
    "arr = [1,2,3,4,6,6,7,8]\n",
    "print(linearSearch(arr,5))\n",
    "\n",
    "def sequential_search(a_list, item):\n",
    "    pos = 0\n",
    "    found = False\n",
    "    while pos < len(a_list) and not found:\n",
    "        if a_list[pos] == item:\n",
    "            found = True\n",
    "        \n",
    "        else:\n",
    "            pos = pos+1\n",
    "    return found\n",
    "\n",
    "test_list = [1, 2, 32, 8, 17, 19, 42, 13, 0]\n",
    "print(sequential_search(test_list, 3))\n",
    "print(sequential_search(test_list, 13))\n"
   ]
  },
  {
   "cell_type": "code",
   "execution_count": 34,
   "id": "726c4130",
   "metadata": {},
   "outputs": [
    {
     "name": "stdout",
     "output_type": "stream",
     "text": [
      "4\n"
     ]
    }
   ],
   "source": [
    "\n",
    "\n",
    "## Binary Search \n",
    "\n",
    "\"\"\"\n",
    "a binary search takes advantage of sorted array and \n",
    "we will start by examining the middle item. \n",
    "If that item is the one we are searching for, we are done. \n",
    "If it is not the correct item, we can use the ordered nature of\n",
    "the list to eliminate half of the remaining items. \n",
    "If the item we are searching for is greater than the middle item, \n",
    "we know that the entire lower half of the list as well as the middle \n",
    "item can be eliminated from further consideration. \n",
    "The item, if it is in the list, must be in the upper half.\n",
    "\n",
    "\"\"\"\n",
    "\n",
    "\"\"\"\n",
    "binary search is a great algorithm example for divide and conquer strategy\n",
    "it means dividing a problem into smaller pieces, solve the smaller problem in some\n",
    "way and then reassemble the whole problem to get the result \n",
    "\n",
    "Note: if we use recursive call with slice operator and we assume the slice operator \n",
    "takes constant time but in real slice operator takes O(k)\n",
    "\n",
    "\"\"\"\n",
    "\n",
    "def binarySearch(arr, target):\n",
    "    left = 0\n",
    "    right = len(arr) - 1\n",
    "    while left < right:\n",
    "        mid = (left + right)//2\n",
    "        if arr[mid] == target:\n",
    "            return mid\n",
    "        elif arr[mid] > target:\n",
    "            right = mid - 1\n",
    "        else:\n",
    "            left = mid + 1\n",
    "            \n",
    "            \n",
    "    return -1\n",
    "\n",
    "\n",
    "\n",
    "arr = [0, 1, 2, 8, 13, 17, 19, 32, 42,]\n",
    "target = 13\n",
    "print(binarySearch(arr, target))\n",
    "\n",
    "\n"
   ]
  },
  {
   "cell_type": "code",
   "execution_count": 37,
   "id": "d949d378",
   "metadata": {
    "scrolled": true
   },
   "outputs": [
    {
     "name": "stdout",
     "output_type": "stream",
     "text": [
      "This is the hash function value 4\n",
      "4\n"
     ]
    }
   ],
   "source": [
    "\n",
    "## Hashing \n",
    "\n",
    "\"\"\"\n",
    "hash is a data structure that can be searched in O(1)\n",
    "if every element is where it should be, then the search can use a single\n",
    "comparison to discover the presence of an item \n",
    "\n",
    "`HASH TABLE `\n",
    "is a collection of items which are stored in such a way as to make it easy to find \n",
    "each position of HT often called a slot, can hold an item and is named \n",
    "by an integer value starting at 0. Initially, the hash table contains no items so every slot is empty.\n",
    "\n",
    "the mapping between an item and the slot where that item belongs in the hash table is \n",
    "called the hash function. the hash function will take any item and return \n",
    "an integer in the range of slot names, between 0 and m - 1. \n",
    "for example we can use a simple hash function referred to as the 'remainder method'\n",
    "simply takes an item and divides it by the size of table size, returning the remainder as its hash value\n",
    "\n",
    "\n",
    "\"\"\"\n",
    "\n",
    "\"\"\"\n",
    "\n",
    "once each value is computed we can insert each table into the hash table \n",
    "at the designed position\n",
    "load factors : it measures how full a hash table is. it is the ratio of number\n",
    "of elements or keys stored in the hash table to the total number of slots or buckets \n",
    "available in the hashtable\n",
    "\n",
    "\"\"\"\n",
    "\n",
    "def hashify(item, sizeOfSlot):\n",
    "    return item%sizeOfSlot\n",
    "\n",
    "sizeOfSlot = 11\n",
    "item = 26\n",
    "print(f\"This is the hash function value {hashify(item, sizeOfSlot)}\")\n",
    "\n",
    "\n",
    "def reminder(dv, ds):\n",
    "    qs = dv//ds\n",
    "    return dv -(qs * ds)\n",
    "\n",
    "\n",
    "def hashify2(item, sizeOfSlot):\n",
    "    return reminder(item, sizeOfSlot)\n",
    "\n",
    "\n",
    "print(hashify2(26, 11))\n",
    "\n"
   ]
  },
  {
   "cell_type": "code",
   "execution_count": null,
   "id": "5b953c77",
   "metadata": {},
   "outputs": [],
   "source": []
  }
 ],
 "metadata": {
  "kernelspec": {
   "display_name": "Python 3 (ipykernel)",
   "language": "python",
   "name": "python3"
  },
  "language_info": {
   "codemirror_mode": {
    "name": "ipython",
    "version": 3
   },
   "file_extension": ".py",
   "mimetype": "text/x-python",
   "name": "python",
   "nbconvert_exporter": "python",
   "pygments_lexer": "ipython3",
   "version": "3.11.6"
  }
 },
 "nbformat": 4,
 "nbformat_minor": 5
}
