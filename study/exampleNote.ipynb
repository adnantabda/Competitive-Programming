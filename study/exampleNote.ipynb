{
 "cells": [
  {
   "cell_type": "code",
   "execution_count": 10,
   "id": "2013999a",
   "metadata": {},
   "outputs": [
    {
     "name": "stdout",
     "output_type": "stream",
     "text": [
      "[3, 2, 1]\n"
     ]
    }
   ],
   "source": [
    "def reverse(array):\n",
    "    left = 0\n",
    "    right = len(array) - 1\n",
    "    while left < right:\n",
    "        array[left], array[right] = array[right], array[left]\n",
    "        left +=1\n",
    "        right -=1\n",
    "    return array\n",
    "\n",
    "array =  [1,2,3]\n",
    "print(reverse(array))"
   ]
  },
  {
   "cell_type": "code",
   "execution_count": 33,
   "id": "5462ac64",
   "metadata": {},
   "outputs": [
    {
     "name": "stdout",
     "output_type": "stream",
     "text": [
      "4\n"
     ]
    }
   ],
   "source": [
    "def longest_substring(s):\n",
    "    max_length = 0\n",
    "    left = 0\n",
    "    seen = set()\n",
    "    for right in range(len(s)):\n",
    "        while s[right] in seen:\n",
    "            seen.remove(s[left])\n",
    "            left += 1\n",
    "        \n",
    "        seen.add(s[right])\n",
    "        max_length = max(max_length, right - left +1)\n",
    "    \n",
    "            \n",
    "    return max_length\n",
    "\n",
    "s = \"kaleessa\"\n",
    "print(longest_substring(s))"
   ]
  }
 ],
 "metadata": {
  "kernelspec": {
   "display_name": "Python 3 (ipykernel)",
   "language": "python",
   "name": "python3"
  },
  "language_info": {
   "codemirror_mode": {
    "name": "ipython",
    "version": 3
   },
   "file_extension": ".py",
   "mimetype": "text/x-python",
   "name": "python",
   "nbconvert_exporter": "python",
   "pygments_lexer": "ipython3",
   "version": "3.11.6"
  }
 },
 "nbformat": 4,
 "nbformat_minor": 5
}
