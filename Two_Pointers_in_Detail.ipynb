{
 "cells": [
  {
   "cell_type": "code",
   "execution_count": 21,
   "id": "dad946d8",
   "metadata": {},
   "outputs": [
    {
     "name": "stdout",
     "output_type": "stream",
     "text": [
      "True\n"
     ]
    }
   ],
   "source": [
    "# This notebook contains a comprehensive in detail description about two pointers techniques:\n",
    "\n",
    "\"\"\"\n",
    "\n",
    "The Two pointers technique is often used to solve `array` and `string` problems.\n",
    "it involves using two variables usually as an indices as a pointer to traverse the\n",
    "data structure and can solve problems related to searching, sorting or optimizing space.\n",
    "These pointers can start from different positions and `move towards each other`\n",
    "`away from each`, or in `synchronized manner`. The primary purpose is to reduce the complixity of a problem \n",
    "by leveraging these two pointers and to avoid nested loops \n",
    "\n",
    "\"\"\"\n",
    "\n",
    "## Types of Two pointers \n",
    "\n",
    "# 1. Opposite Ends Pointers \n",
    "# 2. Same Direction Pointers \n",
    "# 3. Fast-Slow Pointers \n",
    "\n",
    "\n",
    "### 1. Opposite Ends Pointers \n",
    "\n",
    "\"\"\"\n",
    "\n",
    "- often used in problems where the array needs to be traversed from both ends towards the center\n",
    "- E.g: Checking if the number is palindrome, finding pairs with a sum in a sorted array\n",
    "\n",
    "\n",
    "\"\"\"\n",
    "\n",
    "## 2. Same Direction Pointers\n",
    "\n",
    "\"\"\"\n",
    "- used in problems where the array need to be traversed from the same direction.\n",
    "- E.g: Removing Duplicates in sorted array \n",
    "\n",
    "\"\"\"\n",
    "## 3. Fast-slow Pointers \n",
    "\n",
    "\"\"\"\n",
    "- used in linked lists or arrays to detect cycles or to find the middle element\n",
    "- E.g: Detecting Cycles finding middle node in linkedlist\n",
    "\n",
    "\"\"\"\n",
    "\n",
    "# Coding Examples \n",
    "\n",
    "### Opposite Directions\n",
    "\n",
    "\"\"\"\n",
    "check if a string is palindrome means\n",
    "determine if the array reads the same forward and back word\n",
    "\n",
    "Algorithm \n",
    "\n",
    "- 1. initialize two pointers: left (at the start index 0 ) and right  (at the end (index - 1))\n",
    "- 2. compare the elements at these pointers\n",
    "- 3. if the same move the left to the right by and the right to the left by 1\n",
    "- 4. if elements differ we return false\n",
    "- 5. we keep doing this until the pointers meet or cross each other\n",
    "\n",
    "\"\"\"\n",
    "\n",
    "def checkPalindrome(string):\n",
    "    left = 0\n",
    "    right = len(string) - 1\n",
    "    while left < right:\n",
    "        if string[left] != string[right]:\n",
    "            return False\n",
    "        else:\n",
    "            left +=1\n",
    "            right -=1\n",
    "            \n",
    "            \n",
    "    return True\n",
    "\n",
    "\n",
    "string = \"moom\"\n",
    "print(checkPalindrome(string)) # Will return since moom reads the same from both directions\n",
    "\n",
    "\n"
   ]
  },
  {
   "cell_type": "code",
   "execution_count": 24,
   "id": "95747b1e",
   "metadata": {},
   "outputs": [
    {
     "name": "stdout",
     "output_type": "stream",
     "text": [
      "0P\n",
      "0p\n",
      "False\n"
     ]
    }
   ],
   "source": [
    "def isPalindrome(s: str) -> bool:\n",
    "    s.lower()\n",
    "    string_ = ''.join([char for char in s if char.isalnum()]).lower()\n",
    "    left = 0\n",
    "    while left < right:\n",
    "        if string_[left] != string_[right]:\n",
    "            return False\n",
    "\n",
    "        left +=1\n",
    "        right -=1\n",
    "\n",
    "    return True\n",
    "\n",
    "\n",
    "s = \"0P\"\n",
    "print(isPalindrome(s))"
   ]
  },
  {
   "cell_type": "code",
   "execution_count": 37,
   "id": "9c99c52a",
   "metadata": {},
   "outputs": [
    {
     "name": "stdout",
     "output_type": "stream",
     "text": [
      "3\n"
     ]
    }
   ],
   "source": [
    "def longest_unique(s):\n",
    "    start, maxLength = 0 , 0 \n",
    "    seen = set()\n",
    "    \n",
    "    for end in range(len(s)):\n",
    "        while s[end] in seen:\n",
    "            seen.remove(s[start])\n",
    "            start +=1\n",
    "      \n",
    "            \n",
    "        seen.add(s[end])\n",
    "        maxLength = max(maxLength , end - start + 1)\n",
    "       \n",
    "    return maxLength\n",
    "\n",
    "s = \"abcabcbb\"\n",
    "print(longest_unique(s))"
   ]
  },
  {
   "cell_type": "code",
   "execution_count": 36,
   "id": "6453f169",
   "metadata": {},
   "outputs": [
    {
     "name": "stdout",
     "output_type": "stream",
     "text": [
      "3\n"
     ]
    }
   ],
   "source": [
    "def lengthOfLongestSubstring( s: str) -> int:\n",
    "    start, max_length = 0 , 0 \n",
    "    seen = set()\n",
    "\n",
    "    for end in range(len(s)):\n",
    "        while s[end] in seen:\n",
    "            seen.remove(s[start])\n",
    "            start +=1\n",
    "\n",
    "        seen.add(s[end])\n",
    "        max_length = max(max_length , end - start + 1)\n",
    "\n",
    "    return max_length\n",
    "\n",
    "s = \"pwwkew\"\n",
    "print(lengthOfLongestSubstring(s))"
   ]
  },
  {
   "cell_type": "code",
   "execution_count": 45,
   "id": "72c7e37f",
   "metadata": {},
   "outputs": [],
   "source": [
    "### Fast Slow Pointers \n",
    "\n",
    "\"\"\"\n",
    "detect a cycle in a linked list means\n",
    "determine if a linked list contains a cycle ( a node is revisited )\n",
    "\n",
    "1. we us two pointers slow and fast both start at the head of a list\n",
    "2. we move slow pointer one step at a time and fast pointer two steps a time\n",
    "3. if there is a cycle the fast pointer will eventually meet the slow pointer\n",
    "4. if the fast pointer reaches the end of the list (null) there is no cycle\n",
    "\n",
    "\"\"\"\n",
    "\n",
    "class ListNode:\n",
    "    def __init__(self, value=0, next=None):\n",
    "        self.value = value\n",
    "        self.next = next\n",
    "        \n",
    "        \n",
    "        \n",
    "        \n",
    "def has_cycle(head):\n",
    "    if not head or not head.next:\n",
    "        return False\n",
    "    \n",
    "    slow, fast = head, head\n",
    "    \n",
    "    while fast and fast.next:\n",
    "        slow = slow.next\n",
    "        fast = fast.next.next\n",
    "        \n",
    "        if slow == fast:\n",
    "            return True\n",
    "        \n",
    "    \n",
    "    return False\n",
    "\n"
   ]
  },
  {
   "cell_type": "code",
   "execution_count": null,
   "id": "69082dc9",
   "metadata": {},
   "outputs": [],
   "source": [
    "## When To use Two Pointers\n",
    "\n",
    "\"\"\"\n",
    "\n",
    "1. Finding Pairs with specific sum\n",
    "2. Reversing an array of String\n",
    "3. Finding The Length of Longest String without repeating Characters \n",
    "4. Merging Two Sorted Arrays\n",
    "5. Trapping Rain Water\n",
    "6. Remove Duplicates from sorted array \n",
    "7. Partitioning Array\n",
    "8. Finding Minimum in Rotated Sorted Array\n",
    "9. Comparing Subarrays\n",
    "10. Finding Longest Palindromic Substirng\n",
    "\n",
    "\"\"\"\n"
   ]
  }
 ],
 "metadata": {
  "kernelspec": {
   "display_name": "Python 3 (ipykernel)",
   "language": "python",
   "name": "python3"
  },
  "language_info": {
   "codemirror_mode": {
    "name": "ipython",
    "version": 3
   },
   "file_extension": ".py",
   "mimetype": "text/x-python",
   "name": "python",
   "nbconvert_exporter": "python",
   "pygments_lexer": "ipython3",
   "version": "3.11.6"
  }
 },
 "nbformat": 4,
 "nbformat_minor": 5
}
