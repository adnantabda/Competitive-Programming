{
 "cells": [
  {
   "cell_type": "code",
   "execution_count": null,
   "id": "a268ba2d",
   "metadata": {},
   "outputs": [],
   "source": [
    "# Tree\n",
    "\n",
    "\"\"\"\n",
    "Tree Data Structure are used in many areas including OS, graphics, gaming,\n",
    "databases, networking and the like..\n",
    "- Tree is a non linear data structure it a has a root, branches and leaves.\n",
    "- each children of one node are independent of a children of another node. \n",
    "- each leaf node is unique, we can specify  a path from the root of the tree\n",
    "to a leaf that uniquely identifies it.\n",
    "- we can move the entire sections of a tree ( subtree ) to a different position\n",
    "in the tree without affecting the lower level\n",
    "\n",
    "\"\"\"\n",
    "## Vocabulary \n",
    "\n",
    "\"\"\"\n",
    "Node: A node is a fundamental part of a tree.It can have a name, which we call the “key.”\n",
    "A node may also have additional information. We call this additional information the\n",
    "“payload.”\n",
    "\n",
    "Edge: An edge is another fundamental part of a tree. An edge connects two nodes to show\n",
    "that there is a relationship between them. Every node (except the root) is connected by\n",
    "exactly one incoming edge from another node. Each node may have several outgoing\n",
    "edges.\n",
    "\n",
    "Root: it is the top most node of tree and it doesn't have incoming edges\n",
    "\n",
    "Path: a path is an ordered list of nodes that are connected by edges\n",
    "\n",
    "Children: The set of nodes c that have incoming edges from the same node to are said to be the\n",
    "children of that node.\n",
    "\n",
    "Parent: A node is the parent of all the nodes it connects to with outgoing edges.\n",
    "\n",
    "Sibling: Nodes in the tree that are children of the same parent are said to be siblings.\n",
    "\n",
    "Subtree: A subtree is a set of nodes and edges comprised of a parent and all the descendants of\n",
    "that parent.\n",
    "\n",
    "Level: The level of a node 𝑛 is the number of edges on the path from the root node to 𝑛\n",
    "\n",
    "Height: The height of a tree is equal to the maximum level of any node in the tree.\n",
    "\n",
    "\"\"\"\n",
    "\n",
    "## Binary Tree\n",
    "\"\"\"\n",
    "it is tree that each of its node has a maximum of two childrens\n",
    "\n",
    "\"\"\"\n",
    "\n"
   ]
  },
  {
   "cell_type": "code",
   "execution_count": 14,
   "id": "24c74eca",
   "metadata": {},
   "outputs": [
    {
     "name": "stdout",
     "output_type": "stream",
     "text": [
      "left subtree :  []\n"
     ]
    }
   ],
   "source": [
    "# Implimentation\n",
    "'''\n",
    "we can implement binary search using one of the following methods\n",
    "\n",
    "- using list of lists\n",
    "- nodes and references\n",
    "\n",
    "'''\n",
    "example_tree = ['a', #root\n",
    "['b', #left subtree\n",
    "['d', [], []],\n",
    "['e', [], []] ],\n",
    "['c', #right subtree\n",
    "['f', [], []],\n",
    "[] ]\n",
    "]\n",
    "new_tree = [ 'a', ['b', [], []] ,     ['c', [], []] ]\n",
    "my_tree = ['a', ['b', ['d',[],[]], ['e',[],[]] ], ['c', ['f',[],[]], []] ]\n",
    "\n",
    "print('left subtree : ', my_tree[2][2])\n",
    "\n",
    "\"\"\"\n",
    "One very nice property\n",
    "of this list of lists approach is that the structure of a list \n",
    "representing a subtree adheres to the\n",
    "structure defined for a tree; the structure itself is recursive\n",
    "\n",
    "\"\"\"\n",
    "\n",
    "\n",
    "\n",
    "\n"
   ]
  },
  {
   "cell_type": "code",
   "execution_count": null,
   "id": "c3c05708",
   "metadata": {},
   "outputs": [],
   "source": []
  }
 ],
 "metadata": {
  "kernelspec": {
   "display_name": "Python 3 (ipykernel)",
   "language": "python",
   "name": "python3"
  },
  "language_info": {
   "codemirror_mode": {
    "name": "ipython",
    "version": 3
   },
   "file_extension": ".py",
   "mimetype": "text/x-python",
   "name": "python",
   "nbconvert_exporter": "python",
   "pygments_lexer": "ipython3",
   "version": "3.11.6"
  }
 },
 "nbformat": 4,
 "nbformat_minor": 5
}
